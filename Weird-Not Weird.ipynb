{
 "cells": [
  {
   "cell_type": "code",
   "execution_count": null,
   "id": "8711b43a",
   "metadata": {},
   "outputs": [],
   "source": [
    "n=\n",
    "if n>=2 and n<=5 and n%2==0:\n",
    "    print('Not Weird')\n",
    "elif n>=2 and n<=5 and n%2==1:\n",
    "    print('Weird')\n",
    "elif n>=6 and n<=20 and n%2==0:\n",
    "    print('Weird')\n",
    "elif n>20:\n",
    "    print('Not Weird')"
   ]
  }
 ],
 "metadata": {
  "kernelspec": {
   "display_name": "Python 3 (ipykernel)",
   "language": "python",
   "name": "python3"
  },
  "language_info": {
   "codemirror_mode": {
    "name": "ipython",
    "version": 3
   },
   "file_extension": ".py",
   "mimetype": "text/x-python",
   "name": "python",
   "nbconvert_exporter": "python",
   "pygments_lexer": "ipython3",
   "version": "3.9.7"
  }
 },
 "nbformat": 4,
 "nbformat_minor": 5
}
